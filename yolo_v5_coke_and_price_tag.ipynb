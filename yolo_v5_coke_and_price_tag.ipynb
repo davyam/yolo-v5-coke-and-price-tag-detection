{
 "cells": [
  {
   "cell_type": "markdown",
   "id": "172cd204",
   "metadata": {},
   "source": [
    "## Download do projeto YOLOv5"
   ]
  },
  {
   "cell_type": "code",
   "execution_count": 1,
   "id": "1c692c13",
   "metadata": {},
   "outputs": [],
   "source": [
    "# !rm -rf yolov5\n",
    "# !git clone https://github.com/ultralytics/yolov5"
   ]
  },
  {
   "cell_type": "code",
   "execution_count": 1,
   "id": "857224b4",
   "metadata": {},
   "outputs": [
    {
     "name": "stdout",
     "output_type": "stream",
     "text": [
      "D:\\git\\yolo-v5-coke-and-price-tag-detection\\yolov5\n"
     ]
    }
   ],
   "source": [
    "%cd yolov5"
   ]
  },
  {
   "cell_type": "code",
   "execution_count": 3,
   "id": "524ef793",
   "metadata": {},
   "outputs": [],
   "source": [
    "# !mv .git DISABLED.git"
   ]
  },
  {
   "cell_type": "code",
   "execution_count": 4,
   "id": "be10b3f1",
   "metadata": {},
   "outputs": [],
   "source": [
    "# !mv DISABLED.git .git\n",
    "# !mv DISABLED.gitignore .gitignore\n",
    "# !git pull\n",
    "# !mv .git DISABLED.git\n",
    "# !mv .gitignore DISABLED.gitignore"
   ]
  },
  {
   "cell_type": "markdown",
   "id": "197a8b5c",
   "metadata": {},
   "source": [
    "## Instalação de pré-requisitos e importação de módulos"
   ]
  },
  {
   "cell_type": "code",
   "execution_count": 2,
   "id": "ca8210eb",
   "metadata": {
    "scrolled": true
   },
   "outputs": [
    {
     "name": "stdout",
     "output_type": "stream",
     "text": [
      "Requirement already satisfied: matplotlib>=3.2.2 in c:\\users\\macha\\anaconda3\\lib\\site-packages (from -r requirements.txt (line 5)) (3.5.1)\n",
      "Requirement already satisfied: numpy>=1.18.5 in c:\\users\\macha\\anaconda3\\lib\\site-packages (from -r requirements.txt (line 6)) (1.21.5)\n",
      "Requirement already satisfied: opencv-python>=4.1.1 in c:\\users\\macha\\anaconda3\\lib\\site-packages (from -r requirements.txt (line 7)) (4.6.0.66)\n",
      "Requirement already satisfied: Pillow>=7.1.2 in c:\\users\\macha\\anaconda3\\lib\\site-packages (from -r requirements.txt (line 8)) (9.0.1)\n",
      "Requirement already satisfied: PyYAML>=5.3.1 in c:\\users\\macha\\anaconda3\\lib\\site-packages (from -r requirements.txt (line 9)) (6.0)\n",
      "Requirement already satisfied: requests>=2.23.0 in c:\\users\\macha\\anaconda3\\lib\\site-packages (from -r requirements.txt (line 10)) (2.27.1)\n",
      "Requirement already satisfied: scipy>=1.4.1 in c:\\users\\macha\\anaconda3\\lib\\site-packages (from -r requirements.txt (line 11)) (1.7.3)\n",
      "Requirement already satisfied: torch>=1.7.0 in c:\\users\\macha\\anaconda3\\lib\\site-packages (from -r requirements.txt (line 12)) (1.12.1)\n",
      "Requirement already satisfied: torchvision>=0.8.1 in c:\\users\\macha\\anaconda3\\lib\\site-packages (from -r requirements.txt (line 13)) (0.13.1)\n",
      "Requirement already satisfied: tqdm>=4.64.0 in c:\\users\\macha\\anaconda3\\lib\\site-packages (from -r requirements.txt (line 14)) (4.64.0)\n",
      "Requirement already satisfied: tensorboard>=2.4.1 in c:\\users\\macha\\anaconda3\\lib\\site-packages (from -r requirements.txt (line 18)) (2.10.0)\n",
      "Requirement already satisfied: pandas>=1.1.4 in c:\\users\\macha\\anaconda3\\lib\\site-packages (from -r requirements.txt (line 23)) (1.4.2)\n",
      "Requirement already satisfied: seaborn>=0.11.0 in c:\\users\\macha\\anaconda3\\lib\\site-packages (from -r requirements.txt (line 24)) (0.11.2)\n",
      "Requirement already satisfied: ipython in c:\\users\\macha\\anaconda3\\lib\\site-packages (from -r requirements.txt (line 41)) (8.2.0)\n",
      "Requirement already satisfied: psutil in c:\\users\\macha\\anaconda3\\lib\\site-packages (from -r requirements.txt (line 42)) (5.8.0)\n",
      "Requirement already satisfied: thop>=0.1.1 in c:\\users\\macha\\anaconda3\\lib\\site-packages (from -r requirements.txt (line 43)) (0.1.1.post2209072238)\n",
      "Requirement already satisfied: fonttools>=4.22.0 in c:\\users\\macha\\anaconda3\\lib\\site-packages (from matplotlib>=3.2.2->-r requirements.txt (line 5)) (4.25.0)\n",
      "Requirement already satisfied: packaging>=20.0 in c:\\users\\macha\\anaconda3\\lib\\site-packages (from matplotlib>=3.2.2->-r requirements.txt (line 5)) (21.3)\n",
      "Requirement already satisfied: python-dateutil>=2.7 in c:\\users\\macha\\anaconda3\\lib\\site-packages (from matplotlib>=3.2.2->-r requirements.txt (line 5)) (2.8.2)\n",
      "Requirement already satisfied: cycler>=0.10 in c:\\users\\macha\\anaconda3\\lib\\site-packages (from matplotlib>=3.2.2->-r requirements.txt (line 5)) (0.10.0)\n",
      "Requirement already satisfied: pyparsing>=2.2.1 in c:\\users\\macha\\anaconda3\\lib\\site-packages (from matplotlib>=3.2.2->-r requirements.txt (line 5)) (2.4.7)\n",
      "Requirement already satisfied: kiwisolver>=1.0.1 in c:\\users\\macha\\anaconda3\\lib\\site-packages (from matplotlib>=3.2.2->-r requirements.txt (line 5)) (1.3.1)\n",
      "Requirement already satisfied: idna<4,>=2.5 in c:\\users\\macha\\anaconda3\\lib\\site-packages (from requests>=2.23.0->-r requirements.txt (line 10)) (2.10)\n",
      "Requirement already satisfied: certifi>=2017.4.17 in c:\\users\\macha\\anaconda3\\lib\\site-packages (from requests>=2.23.0->-r requirements.txt (line 10)) (2021.5.30)\n",
      "Requirement already satisfied: urllib3<1.27,>=1.21.1 in c:\\users\\macha\\anaconda3\\lib\\site-packages (from requests>=2.23.0->-r requirements.txt (line 10)) (1.26.12)\n",
      "Requirement already satisfied: charset-normalizer~=2.0.0 in c:\\users\\macha\\anaconda3\\lib\\site-packages (from requests>=2.23.0->-r requirements.txt (line 10)) (2.0.4)\n",
      "Requirement already satisfied: typing_extensions in c:\\users\\macha\\anaconda3\\lib\\site-packages (from torch>=1.7.0->-r requirements.txt (line 12)) (4.1.1)\n",
      "Requirement already satisfied: colorama in c:\\users\\macha\\anaconda3\\lib\\site-packages (from tqdm>=4.64.0->-r requirements.txt (line 14)) (0.4.4)\n",
      "Requirement already satisfied: absl-py>=0.4 in c:\\users\\macha\\anaconda3\\lib\\site-packages (from tensorboard>=2.4.1->-r requirements.txt (line 18)) (1.2.0)\n",
      "Requirement already satisfied: markdown>=2.6.8 in c:\\users\\macha\\anaconda3\\lib\\site-packages (from tensorboard>=2.4.1->-r requirements.txt (line 18)) (3.3.4)\n",
      "Requirement already satisfied: grpcio>=1.24.3 in c:\\users\\macha\\anaconda3\\lib\\site-packages (from tensorboard>=2.4.1->-r requirements.txt (line 18)) (1.42.0)\n",
      "Requirement already satisfied: tensorboard-data-server<0.7.0,>=0.6.0 in c:\\users\\macha\\anaconda3\\lib\\site-packages (from tensorboard>=2.4.1->-r requirements.txt (line 18)) (0.6.1)\n",
      "Requirement already satisfied: google-auth-oauthlib<0.5,>=0.4.1 in c:\\users\\macha\\anaconda3\\lib\\site-packages (from tensorboard>=2.4.1->-r requirements.txt (line 18)) (0.4.6)\n",
      "Requirement already satisfied: werkzeug>=1.0.1 in c:\\users\\macha\\anaconda3\\lib\\site-packages (from tensorboard>=2.4.1->-r requirements.txt (line 18)) (2.0.3)\n",
      "Requirement already satisfied: setuptools>=41.0.0 in c:\\users\\macha\\anaconda3\\lib\\site-packages (from tensorboard>=2.4.1->-r requirements.txt (line 18)) (61.2.0)\n",
      "Requirement already satisfied: google-auth<3,>=1.6.3 in c:\\users\\macha\\anaconda3\\lib\\site-packages (from tensorboard>=2.4.1->-r requirements.txt (line 18)) (1.33.0)\n",
      "Requirement already satisfied: wheel>=0.26 in c:\\users\\macha\\anaconda3\\lib\\site-packages (from tensorboard>=2.4.1->-r requirements.txt (line 18)) (0.37.1)\n",
      "Requirement already satisfied: tensorboard-plugin-wit>=1.6.0 in c:\\users\\macha\\anaconda3\\lib\\site-packages (from tensorboard>=2.4.1->-r requirements.txt (line 18)) (1.8.1)\n",
      "Requirement already satisfied: protobuf<3.20,>=3.9.2 in c:\\users\\macha\\anaconda3\\lib\\site-packages (from tensorboard>=2.4.1->-r requirements.txt (line 18)) (3.19.1)\n",
      "Requirement already satisfied: pytz>=2020.1 in c:\\users\\macha\\anaconda3\\lib\\site-packages (from pandas>=1.1.4->-r requirements.txt (line 23)) (2021.3)\n",
      "Requirement already satisfied: matplotlib-inline in c:\\users\\macha\\anaconda3\\lib\\site-packages (from ipython->-r requirements.txt (line 41)) (0.1.2)\n",
      "Requirement already satisfied: pygments>=2.4.0 in c:\\users\\macha\\anaconda3\\lib\\site-packages (from ipython->-r requirements.txt (line 41)) (2.11.2)\n",
      "Requirement already satisfied: jedi>=0.16 in c:\\users\\macha\\anaconda3\\lib\\site-packages (from ipython->-r requirements.txt (line 41)) (0.18.1)\n",
      "Requirement already satisfied: prompt-toolkit!=3.0.0,!=3.0.1,<3.1.0,>=2.0.0 in c:\\users\\macha\\anaconda3\\lib\\site-packages (from ipython->-r requirements.txt (line 41)) (3.0.20)\n",
      "Requirement already satisfied: pickleshare in c:\\users\\macha\\anaconda3\\lib\\site-packages (from ipython->-r requirements.txt (line 41)) (0.7.5)\n",
      "Requirement already satisfied: traitlets>=5 in c:\\users\\macha\\anaconda3\\lib\\site-packages (from ipython->-r requirements.txt (line 41)) (5.1.1)\n",
      "Requirement already satisfied: backcall in c:\\users\\macha\\anaconda3\\lib\\site-packages (from ipython->-r requirements.txt (line 41)) (0.2.0)\n",
      "Requirement already satisfied: stack-data in c:\\users\\macha\\anaconda3\\lib\\site-packages (from ipython->-r requirements.txt (line 41)) (0.2.0)\n",
      "Requirement already satisfied: decorator in c:\\users\\macha\\anaconda3\\lib\\site-packages (from ipython->-r requirements.txt (line 41)) (5.1.1)\n",
      "Requirement already satisfied: six in c:\\users\\macha\\anaconda3\\lib\\site-packages (from cycler>=0.10->matplotlib>=3.2.2->-r requirements.txt (line 5)) (1.16.0)\n",
      "Requirement already satisfied: pyasn1-modules>=0.2.1 in c:\\users\\macha\\anaconda3\\lib\\site-packages (from google-auth<3,>=1.6.3->tensorboard>=2.4.1->-r requirements.txt (line 18)) (0.2.8)\n",
      "Requirement already satisfied: cachetools<5.0,>=2.0.0 in c:\\users\\macha\\anaconda3\\lib\\site-packages (from google-auth<3,>=1.6.3->tensorboard>=2.4.1->-r requirements.txt (line 18)) (4.2.2)\n",
      "Requirement already satisfied: rsa<5,>=3.1.4 in c:\\users\\macha\\anaconda3\\lib\\site-packages (from google-auth<3,>=1.6.3->tensorboard>=2.4.1->-r requirements.txt (line 18)) (4.7.2)\n",
      "Requirement already satisfied: requests-oauthlib>=0.7.0 in c:\\users\\macha\\anaconda3\\lib\\site-packages (from google-auth-oauthlib<0.5,>=0.4.1->tensorboard>=2.4.1->-r requirements.txt (line 18)) (1.3.1)\n",
      "Requirement already satisfied: parso<0.9.0,>=0.8.0 in c:\\users\\macha\\anaconda3\\lib\\site-packages (from jedi>=0.16->ipython->-r requirements.txt (line 41)) (0.8.3)\n",
      "Requirement already satisfied: wcwidth in c:\\users\\macha\\anaconda3\\lib\\site-packages (from prompt-toolkit!=3.0.0,!=3.0.1,<3.1.0,>=2.0.0->ipython->-r requirements.txt (line 41)) (0.2.5)\n",
      "Requirement already satisfied: pyasn1<0.5.0,>=0.4.6 in c:\\users\\macha\\anaconda3\\lib\\site-packages (from pyasn1-modules>=0.2.1->google-auth<3,>=1.6.3->tensorboard>=2.4.1->-r requirements.txt (line 18)) (0.4.8)\n",
      "Requirement already satisfied: oauthlib>=3.0.0 in c:\\users\\macha\\anaconda3\\lib\\site-packages (from requests-oauthlib>=0.7.0->google-auth-oauthlib<0.5,>=0.4.1->tensorboard>=2.4.1->-r requirements.txt (line 18)) (3.2.1)\n",
      "Requirement already satisfied: asttokens in c:\\users\\macha\\anaconda3\\lib\\site-packages (from stack-data->ipython->-r requirements.txt (line 41)) (2.0.5)\n",
      "Requirement already satisfied: pure-eval in c:\\users\\macha\\anaconda3\\lib\\site-packages (from stack-data->ipython->-r requirements.txt (line 41)) (0.2.2)\n",
      "Requirement already satisfied: executing in c:\\users\\macha\\anaconda3\\lib\\site-packages (from stack-data->ipython->-r requirements.txt (line 41)) (0.8.3)\n",
      "Note: you may need to restart the kernel to use updated packages.\n"
     ]
    }
   ],
   "source": [
    "%pip install -r requirements.txt"
   ]
  },
  {
   "cell_type": "code",
   "execution_count": 3,
   "id": "35e40d6a",
   "metadata": {},
   "outputs": [
    {
     "name": "stdout",
     "output_type": "stream",
     "text": [
      "Setup complete. Using torch 1.12.1 NVIDIA GeForce RTX 3070 Ti\n"
     ]
    }
   ],
   "source": [
    "import os;\n",
    "import torch;\n",
    "from IPython.display import Image, clear_output # to display images\n",
    "\n",
    "print(\"Setup complete. Using torch\", torch.__version__, torch.cuda.get_device_properties(0).name if torch.cuda.is_available() else 'CPU')"
   ]
  },
  {
   "cell_type": "markdown",
   "id": "85385f6a",
   "metadata": {},
   "source": [
    "## Download do dataset"
   ]
  },
  {
   "cell_type": "code",
   "execution_count": 7,
   "id": "547ae346",
   "metadata": {},
   "outputs": [],
   "source": [
    "# Roboflow API\n",
    "\n",
    "# %pip install -q roboflow\n",
    "\n",
    "# from roboflow import Roboflow"
   ]
  },
  {
   "cell_type": "code",
   "execution_count": 8,
   "id": "6e1ee1a3",
   "metadata": {},
   "outputs": [],
   "source": [
    "# rf = Roboflow(api_key=\"xxxxxxxxxx\")\n",
    "# project = rf.workspace(\"davylabs-d0yq3\").project(\"coke-and-price-tag\")"
   ]
  },
  {
   "cell_type": "code",
   "execution_count": 9,
   "id": "bde1aae0",
   "metadata": {},
   "outputs": [],
   "source": [
    "# Dataset v2 - imgs: 190, cls: 39, imgz: 640px, split: 70% treino 20% validação 10% teste\n",
    "\n",
    "# !rm -rf coke-and-price-tag-2\n",
    "# dataset = project.version(2).download(\"yolov5\")"
   ]
  },
  {
   "cell_type": "code",
   "execution_count": 10,
   "id": "83d720ad",
   "metadata": {},
   "outputs": [],
   "source": [
    "# Dataset v3 - imgs: 190, cls: 11 (classes sem volume/ml), imgz: 640px, split: 70% treino 20% validação 10% teste\n",
    "\n",
    "# !rm -rf coke-and-price-tag-3\n",
    "# dataset = project.version(3).download(\"yolov5\")"
   ]
  },
  {
   "cell_type": "markdown",
   "id": "ba930cb1",
   "metadata": {},
   "source": [
    "## Logging"
   ]
  },
  {
   "cell_type": "code",
   "execution_count": 4,
   "id": "71d27270",
   "metadata": {
    "scrolled": true
   },
   "outputs": [
    {
     "name": "stdout",
     "output_type": "stream",
     "text": [
      "Note: you may need to restart the kernel to use updated packages.\n"
     ]
    },
    {
     "name": "stderr",
     "output_type": "stream",
     "text": [
      "\u001b[34m\u001b[1mwandb\u001b[0m: Currently logged in as: \u001b[33mdavy-machado\u001b[0m. Use \u001b[1m`wandb login --relogin`\u001b[0m to force relogin\n"
     ]
    },
    {
     "data": {
      "text/plain": [
       "True"
      ]
     },
     "execution_count": 4,
     "metadata": {},
     "output_type": "execute_result"
    }
   ],
   "source": [
    "# Weights & Biases\n",
    "\n",
    "%pip install -q wandb\n",
    "\n",
    "import wandb\n",
    "wandb.login()"
   ]
  },
  {
   "cell_type": "markdown",
   "id": "17ab7356",
   "metadata": {},
   "source": [
    "## Limpando o cache"
   ]
  },
  {
   "cell_type": "code",
   "execution_count": 12,
   "id": "d66c0586",
   "metadata": {},
   "outputs": [],
   "source": [
    "# import torch\n",
    "# torch.cuda.empty_cache()"
   ]
  },
  {
   "cell_type": "markdown",
   "id": "d714266e",
   "metadata": {},
   "source": [
    "## Treinando modelos com o dataset v2"
   ]
  },
  {
   "cell_type": "code",
   "execution_count": 5,
   "id": "61329aa9",
   "metadata": {},
   "outputs": [
    {
     "name": "stdout",
     "output_type": "stream",
     "text": [
      "names:\n",
      "- coke-bottle-1000ml\n",
      "- coke-bottle-1500ml\n",
      "- coke-bottle-2000ml\n",
      "- coke-bottle-200ml\n",
      "- coke-bottle-2500ml\n",
      "- coke-bottle-250ml\n",
      "- coke-bottle-3000ml\n",
      "- coke-bottle-600ml\n",
      "- coke-bottle-package-1000ml\n",
      "- coke-bottle-package-2000ml\n",
      "- coke-bottle-package-200ml\n",
      "- coke-bottle-package-2500ml\n",
      "- coke-bottle-package-250ml\n",
      "- coke-bottle-package-3000ml\n",
      "- coke-bottle-package-600ml\n",
      "- coke-can-220ml\n",
      "- coke-can-310ml\n",
      "- coke-can-package-220ml\n",
      "- coke-can-package-310ml\n",
      "- coke-can-package-350ml\n",
      "- coke-coffee-can-220ml\n",
      "- coke-coffee-can-package-220ml\n",
      "- coke-without-sugar-bottle-1000ml\n",
      "- coke-without-sugar-bottle-1500ml\n",
      "- coke-without-sugar-bottle-2000ml\n",
      "- coke-without-sugar-bottle-2500ml\n",
      "- coke-without-sugar-bottle-250ml\n",
      "- coke-without-sugar-bottle-600ml\n",
      "- coke-without-sugar-bottle-package-1000ml\n",
      "- coke-without-sugar-bottle-package-1500ml\n",
      "- coke-without-sugar-bottle-package-2000ml\n",
      "- coke-without-sugar-bottle-package-2500ml\n",
      "- coke-without-sugar-bottle-package-250ml\n",
      "- coke-without-sugar-bottle-package-600ml\n",
      "- coke-without-sugar-can-220ml\n",
      "- coke-without-sugar-can-310ml\n",
      "- coke-without-sugar-can-package-220ml\n",
      "- coke-without-sugar-can-package-310ml\n",
      "- price-tag\n",
      "nc: 39\n",
      "train: coke-and-price-tag-2/train/images\n",
      "val: coke-and-price-tag-2/valid/images\n"
     ]
    }
   ],
   "source": [
    "!cat coke-and-price-tag-2/data.yaml"
   ]
  },
  {
   "cell_type": "code",
   "execution_count": null,
   "id": "0e51be30",
   "metadata": {
    "scrolled": true
   },
   "outputs": [
    {
     "name": "stderr",
     "output_type": "stream",
     "text": [
      "\u001b[34m\u001b[1mtrain: \u001b[0mweights=yolov5l.pt, cfg=, data=coke-and-price-tag-2/data.yaml, hyp=data\\hyps\\hyp.scratch-low.yaml, epochs=1800, batch_size=13, imgsz=640, rect=False, resume=False, nosave=False, noval=False, noautoanchor=False, noplots=False, evolve=None, bucket=, cache=ram, image_weights=False, device=, multi_scale=False, single_cls=False, optimizer=SGD, sync_bn=False, workers=8, project=yolo-v5-coke-and-price-tag-dataset-v2-local, name=exp, exist_ok=False, quad=False, cos_lr=False, label_smoothing=0.0, patience=300, freeze=[0], save_period=-1, seed=0, local_rank=-1, entity=None, upload_dataset=False, bbox_interval=-1, artifact_alias=latest\n",
      "YOLOv5  2022-10-17 Python-3.9.12 torch-1.12.1 CUDA:0 (NVIDIA GeForce RTX 3070 Ti, 8192MiB)\n",
      "\n",
      "\u001b[34m\u001b[1mhyperparameters: \u001b[0mlr0=0.01, lrf=0.01, momentum=0.937, weight_decay=0.0005, warmup_epochs=3.0, warmup_momentum=0.8, warmup_bias_lr=0.1, box=0.05, cls=0.5, cls_pw=1.0, obj=1.0, obj_pw=1.0, iou_t=0.2, anchor_t=4.0, fl_gamma=0.0, hsv_h=0.015, hsv_s=0.7, hsv_v=0.4, degrees=0.0, translate=0.1, scale=0.5, shear=0.0, perspective=0.0, flipud=0.0, fliplr=0.5, mosaic=1.0, mixup=0.0, copy_paste=0.0\n",
      "\u001b[34m\u001b[1mClearML: \u001b[0mrun 'pip install clearml' to automatically track, visualize and remotely train YOLOv5  in ClearML\n",
      "\u001b[34m\u001b[1mComet: \u001b[0mrun 'pip install comet_ml' to automatically track and visualize YOLOv5  runs in Comet\n",
      "\u001b[34m\u001b[1mTensorBoard: \u001b[0mStart with 'tensorboard --logdir yolo-v5-coke-and-price-tag-dataset-v2-local', view at http://localhost:6006/\n"
     ]
    },
    {
     "name": "stdout",
     "output_type": "stream",
     "text": [
      "\u001b[34m\u001b[1mgithub: \u001b[0mskipping check (not a git repository), for updates see https://github.com/ultralytics/yolov5\n"
     ]
    },
    {
     "data": {
      "application/vnd.jupyter.widget-view+json": {
       "model_id": "724da71ed2ec4441b9d0211e52b9471f",
       "version_major": 2,
       "version_minor": 0
      },
      "text/plain": [
       "VBox(children=(Label(value='Waiting for wandb.init()...\\r'), FloatProgress(value=0.033630625406901045, max=1.0…"
      ]
     },
     "metadata": {},
     "output_type": "display_data"
    },
    {
     "data": {
      "text/html": [
       "wandb version 0.13.4 is available!  To upgrade, please run:\n",
       " $ pip install wandb --upgrade"
      ],
      "text/plain": [
       "<IPython.core.display.HTML object>"
      ]
     },
     "metadata": {},
     "output_type": "display_data"
    },
    {
     "data": {
      "text/html": [
       "Tracking run with wandb version 0.13.3"
      ],
      "text/plain": [
       "<IPython.core.display.HTML object>"
      ]
     },
     "metadata": {},
     "output_type": "display_data"
    },
    {
     "data": {
      "text/html": [
       "Run data is saved locally in <code>D:\\git\\yolo-v5-coke-and-price-tag-detection\\yolov5\\wandb\\run-20221026_115608-2n9hse1w</code>"
      ],
      "text/plain": [
       "<IPython.core.display.HTML object>"
      ]
     },
     "metadata": {},
     "output_type": "display_data"
    },
    {
     "data": {
      "text/html": [
       "Syncing run <strong><a href=\"https://wandb.ai/davy-machado/yolo-v5-coke-and-price-tag-dataset-v2-local/runs/2n9hse1w\" target=\"_blank\">light-feather-58</a></strong> to <a href=\"https://wandb.ai/davy-machado/yolo-v5-coke-and-price-tag-dataset-v2-local\" target=\"_blank\">Weights & Biases</a> (<a href=\"https://wandb.me/run\" target=\"_blank\">docs</a>)<br/>"
      ],
      "text/plain": [
       "<IPython.core.display.HTML object>"
      ]
     },
     "metadata": {},
     "output_type": "display_data"
    },
    {
     "name": "stderr",
     "output_type": "stream",
     "text": [
      "Overriding model.yaml nc=80 with nc=39\n",
      "\n",
      "                 from  n    params  module                                  arguments                     \n",
      "  0                -1  1      7040  models.common.Conv                      [3, 64, 6, 2, 2]              \n",
      "  1                -1  1     73984  models.common.Conv                      [64, 128, 3, 2]               \n",
      "  2                -1  3    156928  models.common.C3                        [128, 128, 3]                 \n",
      "  3                -1  1    295424  models.common.Conv                      [128, 256, 3, 2]              \n",
      "  4                -1  6   1118208  models.common.C3                        [256, 256, 6]                 \n",
      "  5                -1  1   1180672  models.common.Conv                      [256, 512, 3, 2]              \n",
      "  6                -1  9   6433792  models.common.C3                        [512, 512, 9]                 \n",
      "  7                -1  1   4720640  models.common.Conv                      [512, 1024, 3, 2]             \n",
      "  8                -1  3   9971712  models.common.C3                        [1024, 1024, 3]               \n",
      "  9                -1  1   2624512  models.common.SPPF                      [1024, 1024, 5]               \n",
      " 10                -1  1    525312  models.common.Conv                      [1024, 512, 1, 1]             \n",
      " 11                -1  1         0  torch.nn.modules.upsampling.Upsample    [None, 2, 'nearest']          \n",
      " 12           [-1, 6]  1         0  models.common.Concat                    [1]                           \n",
      " 13                -1  3   2757632  models.common.C3                        [1024, 512, 3, False]         \n",
      " 14                -1  1    131584  models.common.Conv                      [512, 256, 1, 1]              \n",
      " 15                -1  1         0  torch.nn.modules.upsampling.Upsample    [None, 2, 'nearest']          \n",
      " 16           [-1, 4]  1         0  models.common.Concat                    [1]                           \n",
      " 17                -1  3    690688  models.common.C3                        [512, 256, 3, False]          \n",
      " 18                -1  1    590336  models.common.Conv                      [256, 256, 3, 2]              \n",
      " 19          [-1, 14]  1         0  models.common.Concat                    [1]                           \n",
      " 20                -1  3   2495488  models.common.C3                        [512, 512, 3, False]          \n",
      " 21                -1  1   2360320  models.common.Conv                      [512, 512, 3, 2]              \n",
      " 22          [-1, 10]  1         0  models.common.Concat                    [1]                           \n",
      " 23                -1  3   9971712  models.common.C3                        [1024, 1024, 3, False]        \n",
      " 24      [17, 20, 23]  1    236940  models.yolo.Detect                      [39, [[10, 13, 16, 30, 33, 23], [30, 61, 62, 45, 59, 119], [116, 90, 156, 198, 373, 326]], [256, 512, 1024]]\n",
      "Model summary: 368 layers, 46342924 parameters, 46342924 gradients, 108.9 GFLOPs\n",
      "\n",
      "Transferred 607/613 items from yolov5l.pt\n",
      "\u001b[34m\u001b[1mAMP: \u001b[0mchecks passed \n",
      "\u001b[34m\u001b[1moptimizer:\u001b[0m SGD(lr=0.01) with parameter groups 101 weight(decay=0.0), 104 weight(decay=0.0005078125), 104 bias\n",
      "\u001b[34m\u001b[1mtrain: \u001b[0mScanning 'D:\\git\\yolo-v5-coke-and-price-tag-detection\\yolov5\\coke-and-price-tag-2\\train\\labels' images and label\u001b[0m\n",
      "\u001b[34m\u001b[1mtrain: \u001b[0mWARNING  Cache directory D:\\git\\yolo-v5-coke-and-price-tag-detection\\yolov5\\coke-and-price-tag-2\\train is not writeable: [WinError 183] No  possvel criar um arquivo j existente: 'D:\\\\git\\\\yolo-v5-coke-and-price-tag-detection\\\\yolov5\\\\coke-and-price-tag-2\\\\train\\\\labels.cache.npy' -> 'D:\\\\git\\\\yolo-v5-coke-and-price-tag-detection\\\\yolov5\\\\coke-and-price-tag-2\\\\train\\\\labels.cache'\n",
      "\u001b[34m\u001b[1mtrain: \u001b[0mCaching images (0.2GB ram): 100%|██████████| 133/133 [00:00<00:00, 1545.10it/s]                                 \u001b[0m\n",
      "\u001b[34m\u001b[1mval: \u001b[0mScanning 'D:\\git\\yolo-v5-coke-and-price-tag-detection\\yolov5\\coke-and-price-tag-2\\valid\\labels' images and labels.\u001b[0m\n",
      "\u001b[34m\u001b[1mval: \u001b[0mWARNING  Cache directory D:\\git\\yolo-v5-coke-and-price-tag-detection\\yolov5\\coke-and-price-tag-2\\valid is not writeable: [WinError 183] No  possvel criar um arquivo j existente: 'D:\\\\git\\\\yolo-v5-coke-and-price-tag-detection\\\\yolov5\\\\coke-and-price-tag-2\\\\valid\\\\labels.cache.npy' -> 'D:\\\\git\\\\yolo-v5-coke-and-price-tag-detection\\\\yolov5\\\\coke-and-price-tag-2\\\\valid\\\\labels.cache'\n",
      "\u001b[34m\u001b[1mval: \u001b[0mCaching images (0.0GB ram): 100%|██████████| 38/38 [00:00<00:00, 1460.22it/s]                                     \u001b[0m\n",
      "\n",
      "\u001b[34m\u001b[1mAutoAnchor: \u001b[0m4.01 anchors/target, 0.984 Best Possible Recall (BPR). Current anchors are a good fit to dataset \n",
      "Plotting labels to yolo-v5-coke-and-price-tag-dataset-v2-local\\exp69\\labels.jpg... \n",
      "Image sizes 640 train, 640 val\n",
      "Using 8 dataloader workers\n",
      "Logging results to \u001b[1myolo-v5-coke-and-price-tag-dataset-v2-local\\exp69\u001b[0m\n",
      "Starting training for 1800 epochs...\n",
      "\n",
      "      Epoch    GPU_mem   box_loss   obj_loss   cls_loss  Instances       Size\n",
      "     0/1799      7.77G      0.113    0.06235    0.09158         23        640: 100%|██████████| 11/11 [00:08<00:00,  1.\n",
      "                 Class     Images  Instances          P          R      mAP50   mAP50-95: 100%|██████████| 2/2 [00:00<0\n",
      "                   all         38        401     0.0051     0.0182    0.00281   0.000817\n",
      "\n",
      "      Epoch    GPU_mem   box_loss   obj_loss   cls_loss  Instances       Size\n",
      "     1/1799       7.7G     0.1047     0.0773    0.09015         45        640: 100%|██████████| 11/11 [00:03<00:00,  3.\n",
      "                 Class     Images  Instances          P          R      mAP50   mAP50-95: 100%|██████████| 2/2 [00:00<0\n",
      "                   all         38        401    0.00402     0.0698     0.0107    0.00195\n",
      "\n",
      "      Epoch    GPU_mem   box_loss   obj_loss   cls_loss  Instances       Size\n",
      "     2/1799      7.71G    0.09868    0.06824    0.09026          4        640: 100%|██████████| 11/11 [00:03<00:00,  3.\n",
      "                 Class     Images  Instances          P          R      mAP50   mAP50-95: 100%|██████████| 2/2 [00:00<0\n",
      "                   all         38        401    0.00456      0.132     0.0059     0.0018\n",
      "\n",
      "      Epoch    GPU_mem   box_loss   obj_loss   cls_loss  Instances       Size\n",
      "     3/1799      7.71G    0.09033    0.09642    0.08889         79        640: 100%|██████████| 11/11 [00:03<00:00,  3.\n",
      "                 Class     Images  Instances          P          R      mAP50   mAP50-95: 100%|██████████| 2/2 [00:00<0\n",
      "                   all         38        401    0.00675      0.154    0.00849    0.00276\n",
      "\n",
      "      Epoch    GPU_mem   box_loss   obj_loss   cls_loss  Instances       Size\n",
      "     4/1799      7.71G    0.08993    0.07515    0.08795         38        640: 100%|██████████| 11/11 [00:03<00:00,  3.\n",
      "                 Class     Images  Instances          P          R      mAP50   mAP50-95: 100%|██████████| 2/2 [00:00<0\n",
      "                   all         38        401    0.00726       0.22    0.00983    0.00352\n",
      "\n",
      "      Epoch    GPU_mem   box_loss   obj_loss   cls_loss  Instances       Size\n",
      "     5/1799      7.71G    0.08569    0.07181    0.08596         23        640: 100%|██████████| 11/11 [00:03<00:00,  3.\n",
      "                 Class     Images  Instances          P          R      mAP50   mAP50-95: 100%|██████████| 2/2 [00:00<0\n",
      "                   all         38        401    0.00851      0.232      0.014    0.00526\n",
      "\n",
      "      Epoch    GPU_mem   box_loss   obj_loss   cls_loss  Instances       Size\n",
      "     6/1799      7.71G     0.0835    0.06561    0.08504         18        640: 100%|██████████| 11/11 [00:03<00:00,  3.\n",
      "                 Class     Images  Instances          P          R      mAP50   mAP50-95: 100%|██████████| 2/2 [00:00<0\n",
      "                   all         38        401    0.00944       0.21     0.0257      0.012\n",
      "\n",
      "      Epoch    GPU_mem   box_loss   obj_loss   cls_loss  Instances       Size\n",
      "     7/1799      7.71G    0.08316    0.07913    0.08274         93        640: 100%|██████████| 11/11 [00:03<00:00,  3.\n",
      "                 Class     Images  Instances          P          R      mAP50   mAP50-95: 100%|██████████| 2/2 [00:00<0\n",
      "                   all         38        401      0.935     0.0179      0.026     0.0092\n",
      "\n",
      "      Epoch    GPU_mem   box_loss   obj_loss   cls_loss  Instances       Size\n"
     ]
    },
    {
     "name": "stderr",
     "output_type": "stream",
     "text": [
      "     8/1799      7.71G    0.08187    0.08084     0.0798        129        640: 100%|██████████| 11/11 [00:03<00:00,  3.\n",
      "                 Class     Images  Instances          P          R      mAP50   mAP50-95: 100%|██████████| 2/2 [00:00<0\n",
      "                   all         38        401     0.0124      0.311     0.0269     0.0116\n",
      "\n",
      "      Epoch    GPU_mem   box_loss   obj_loss   cls_loss  Instances       Size\n",
      "     9/1799      7.71G    0.08273    0.06571    0.07978         13        640: 100%|██████████| 11/11 [00:03<00:00,  3.\n",
      "                 Class     Images  Instances          P          R      mAP50   mAP50-95: 100%|██████████| 2/2 [00:00<0\n",
      "                   all         38        401      0.938     0.0192     0.0287    0.00918\n",
      "\n",
      "      Epoch    GPU_mem   box_loss   obj_loss   cls_loss  Instances       Size\n",
      "    10/1799      7.71G    0.07987    0.08475    0.07844         57        640: 100%|██████████| 11/11 [00:03<00:00,  3.\n",
      "                 Class     Images  Instances          P          R      mAP50   mAP50-95: 100%|██████████| 2/2 [00:00<0\n",
      "                   all         38        401      0.889     0.0146      0.016    0.00667\n",
      "\n",
      "      Epoch    GPU_mem   box_loss   obj_loss   cls_loss  Instances       Size\n",
      "    11/1799      7.71G    0.07982    0.08827    0.07754         33        640: 100%|██████████| 11/11 [00:03<00:00,  3.\n",
      "                 Class     Images  Instances          P          R      mAP50   mAP50-95: 100%|██████████| 2/2 [00:00<0\n",
      "                   all         38        401      0.427     0.0835     0.0215    0.00794\n",
      "\n",
      "      Epoch    GPU_mem   box_loss   obj_loss   cls_loss  Instances       Size\n",
      "    12/1799      7.71G    0.07709    0.06449    0.07677         13        640: 100%|██████████| 11/11 [00:03<00:00,  3.\n",
      "                 Class     Images  Instances          P          R      mAP50   mAP50-95: 100%|██████████| 2/2 [00:00<0\n",
      "                   all         38        401      0.896     0.0261     0.0266     0.0109\n",
      "\n",
      "      Epoch    GPU_mem   box_loss   obj_loss   cls_loss  Instances       Size\n",
      "    13/1799      7.71G    0.07727    0.06325     0.0744         13        640: 100%|██████████| 11/11 [00:04<00:00,  2.\n",
      "                 Class     Images  Instances          P          R      mAP50   mAP50-95: 100%|██████████| 2/2 [00:00<0\n",
      "                   all         38        401      0.895     0.0251     0.0314     0.0115\n",
      "\n",
      "      Epoch    GPU_mem   box_loss   obj_loss   cls_loss  Instances       Size\n",
      "    14/1799      7.71G    0.07541    0.06624     0.0783         11        640: 100%|██████████| 11/11 [00:03<00:00,  3.\n",
      "                 Class     Images  Instances          P          R      mAP50   mAP50-95: 100%|██████████| 2/2 [00:00<0\n",
      "                   all         38        401    0.00831      0.203     0.0231    0.00925\n",
      "\n",
      "      Epoch    GPU_mem   box_loss   obj_loss   cls_loss  Instances       Size\n",
      "    15/1799      7.71G    0.07595    0.07665    0.07254         97        640: 100%|██████████| 11/11 [00:03<00:00,  2.\n",
      "                 Class     Images  Instances          P          R      mAP50   mAP50-95: 100%|██████████| 2/2 [00:00<0\n",
      "                   all         38        401       0.99     0.0271     0.0563     0.0284\n",
      "\n",
      "      Epoch    GPU_mem   box_loss   obj_loss   cls_loss  Instances       Size\n",
      "    16/1799      7.71G    0.07364    0.06831    0.07539         28        640: 100%|██████████| 11/11 [00:03<00:00,  3.\n",
      "                 Class     Images  Instances          P          R      mAP50   mAP50-95: 100%|██████████| 2/2 [00:00<0\n",
      "                   all         38        401      0.992     0.0258     0.0596     0.0271\n",
      "\n",
      "      Epoch    GPU_mem   box_loss   obj_loss   cls_loss  Instances       Size\n",
      "    17/1799      7.71G    0.07015    0.05879    0.07617         14        640: 100%|██████████| 11/11 [00:03<00:00,  3.\n",
      "                 Class     Images  Instances          P          R      mAP50   mAP50-95: 100%|██████████| 2/2 [00:00<0\n",
      "                   all         38        401     0.0189      0.477     0.0628     0.0292\n",
      "\n",
      "      Epoch    GPU_mem   box_loss   obj_loss   cls_loss  Instances       Size\n",
      "    18/1799      7.71G    0.07207    0.06964    0.07697         18        640: 100%|██████████| 11/11 [00:03<00:00,  3.\n",
      "                 Class     Images  Instances          P          R      mAP50   mAP50-95: 100%|██████████| 2/2 [00:00<0\n",
      "                   all         38        401      0.018       0.37     0.0525      0.027\n",
      "\n",
      "      Epoch    GPU_mem   box_loss   obj_loss   cls_loss  Instances       Size\n",
      "    19/1799      7.71G    0.07261    0.07172    0.07575         77        640: 100%|██████████| 11/11 [00:03<00:00,  3.\n",
      "                 Class     Images  Instances          P          R      mAP50   mAP50-95: 100%|██████████| 2/2 [00:00<0\n",
      "                   all         38        401     0.0222       0.45     0.0491     0.0285\n",
      "\n",
      "      Epoch    GPU_mem   box_loss   obj_loss   cls_loss  Instances       Size\n",
      "    20/1799      7.71G    0.06971    0.08618    0.07305         83        640: 100%|██████████| 11/11 [00:03<00:00,  3.\n",
      "                 Class     Images  Instances          P          R      mAP50   mAP50-95: 100%|██████████| 2/2 [00:00<0\n",
      "                   all         38        401     0.0236      0.517     0.0583     0.0338\n",
      "\n",
      "      Epoch    GPU_mem   box_loss   obj_loss   cls_loss  Instances       Size\n",
      "    21/1799      7.71G    0.06646    0.07024    0.07488         28        640: 100%|██████████| 11/11 [00:03<00:00,  3.\n",
      "                 Class     Images  Instances          P          R      mAP50   mAP50-95: 100%|██████████| 2/2 [00:00<0\n",
      "                   all         38        401     0.0247      0.535     0.0697     0.0374\n",
      "\n",
      "      Epoch    GPU_mem   box_loss   obj_loss   cls_loss  Instances       Size\n",
      "    22/1799      7.71G    0.06543    0.06415    0.07625         26        640: 100%|██████████| 11/11 [00:03<00:00,  3.\n",
      "                 Class     Images  Instances          P          R      mAP50   mAP50-95: 100%|██████████| 2/2 [00:00<0\n",
      "                   all         38        401     0.0244      0.524     0.0691     0.0379\n",
      "\n",
      "      Epoch    GPU_mem   box_loss   obj_loss   cls_loss  Instances       Size\n",
      "    23/1799      7.71G    0.06823    0.06029    0.07267         21        640: 100%|██████████| 11/11 [00:03<00:00,  3.\n",
      "                 Class     Images  Instances          P          R      mAP50   mAP50-95: 100%|██████████| 2/2 [00:00<0\n",
      "                   all         38        401     0.0195      0.454     0.0489     0.0195\n",
      "\n",
      "      Epoch    GPU_mem   box_loss   obj_loss   cls_loss  Instances       Size\n",
      "    24/1799      7.71G    0.06214    0.06914    0.06974         42        640: 100%|██████████| 11/11 [00:03<00:00,  3.\n",
      "                 Class     Images  Instances          P          R      mAP50   mAP50-95: 100%|██████████| 2/2 [00:00<0\n",
      "                   all         38        401     0.0194      0.448     0.0539     0.0288\n",
      "\n",
      "      Epoch    GPU_mem   box_loss   obj_loss   cls_loss  Instances       Size\n",
      "    25/1799      7.71G    0.06679    0.06845    0.06876         77        640: 100%|██████████| 11/11 [00:03<00:00,  3.\n",
      "                 Class     Images  Instances          P          R      mAP50   mAP50-95: 100%|██████████| 2/2 [00:00<0\n",
      "                   all         38        401      0.018      0.438     0.0523     0.0292\n",
      "\n",
      "      Epoch    GPU_mem   box_loss   obj_loss   cls_loss  Instances       Size\n",
      "    26/1799      7.71G    0.06414     0.0718    0.07372         31        640: 100%|██████████| 11/11 [00:03<00:00,  3.\n",
      "                 Class     Images  Instances          P          R      mAP50   mAP50-95: 100%|██████████| 2/2 [00:00<0\n",
      "                   all         38        401     0.0212      0.511     0.0638     0.0381\n",
      "\n",
      "      Epoch    GPU_mem   box_loss   obj_loss   cls_loss  Instances       Size\n",
      "    27/1799      7.71G     0.0637    0.07987    0.06935         58        640: 100%|██████████| 11/11 [00:03<00:00,  3.\n",
      "                 Class     Images  Instances          P          R      mAP50   mAP50-95: 100%|██████████| 2/2 [00:00<0\n",
      "                   all         38        401     0.0287      0.532     0.0897     0.0531\n",
      "\n",
      "      Epoch    GPU_mem   box_loss   obj_loss   cls_loss  Instances       Size\n"
     ]
    },
    {
     "name": "stderr",
     "output_type": "stream",
     "text": [
      "    28/1799      7.71G    0.06766    0.06395    0.07084         78        640: 100%|██████████| 11/11 [00:03<00:00,  3.\n",
      "                 Class     Images  Instances          P          R      mAP50   mAP50-95:  50%|█████     | 1/2 [00:00<0"
     ]
    }
   ],
   "source": [
    "%run -i train.py --project yolo-v5-coke-and-price-tag-dataset-v2-local --data coke-and-price-tag-2/data.yaml --img 640 --batch 13 --epochs 1800 --weights yolov5l.pt --patience 300 --cache"
   ]
  },
  {
   "cell_type": "code",
   "execution_count": 15,
   "id": "11c1c08c",
   "metadata": {
    "scrolled": true
   },
   "outputs": [],
   "source": [
    "# Pesos randômicos\n",
    "\n",
    "# %run -i train.py --project yolo-v5-coke-and-price-tag-dataset-v2-local --data coke-and-price-tag-2/data.yaml --img 640 --batch 13 --epochs 1800 --cache --patience 300 --weights '' --cfg models/yolov5l.yaml"
   ]
  },
  {
   "cell_type": "code",
   "execution_count": 16,
   "id": "a8853765",
   "metadata": {},
   "outputs": [],
   "source": [
    "# Otimizador e hiperparâmetros diferentes\n",
    "\n",
    "# %run -i train.py --project yolo-v5-coke-and-price-tag-dataset-v2-local --data coke-and-price-tag-2/data.yaml --img 640 --batch 13 --epochs 300 --weights yolov5l.pt --cache --optimizer Adam --hyp data/hyps/hyp.custom.yaml"
   ]
  },
  {
   "cell_type": "markdown",
   "id": "7f6cdb07",
   "metadata": {},
   "source": [
    "## Treinando modelos com o dataset v3 - classes sem volume (ml)"
   ]
  },
  {
   "cell_type": "code",
   "execution_count": 17,
   "id": "c918edf8",
   "metadata": {},
   "outputs": [
    {
     "name": "stdout",
     "output_type": "stream",
     "text": [
      "names:\n",
      "- coke-bottle\n",
      "- coke-bottle-package\n",
      "- coke-can\n",
      "- coke-can-package\n",
      "- coke-coffee-can\n",
      "- coke-coffee-can-package\n",
      "- coke-without-sugar-bottle\n",
      "- coke-without-sugar-bottle-package\n",
      "- coke-without-sugar-can\n",
      "- coke-without-sugar-can-package\n",
      "- price-tag\n",
      "nc: 11\n",
      "train: coke-and-price-tag-3/train/images\n",
      "val: coke-and-price-tag-3/valid/images\n"
     ]
    }
   ],
   "source": [
    "!cat coke-and-price-tag-3/data.yaml"
   ]
  },
  {
   "cell_type": "code",
   "execution_count": 18,
   "id": "70874e56",
   "metadata": {},
   "outputs": [],
   "source": [
    "# %run -i train.py --project yolo-v5-coke-and-price-tag-dataset-v3-local --data coke-and-price-tag-3/data.yaml --img 640 --batch 13 --epochs 1800 --patience 300 --cache --weights yolov5l.pt"
   ]
  },
  {
   "cell_type": "markdown",
   "id": "a379399f",
   "metadata": {},
   "source": [
    "## Ajuda"
   ]
  },
  {
   "cell_type": "code",
   "execution_count": 19,
   "id": "46cb4a2a",
   "metadata": {
    "scrolled": true
   },
   "outputs": [
    {
     "name": "stdout",
     "output_type": "stream",
     "text": [
      "usage: train.py [-h] [--weights WEIGHTS] [--cfg CFG] [--data DATA] [--hyp HYP] [--epochs EPOCHS]\n",
      "                [--batch-size BATCH_SIZE] [--imgsz IMGSZ] [--rect] [--resume [RESUME]] [--nosave] [--noval]\n",
      "                [--noautoanchor] [--noplots] [--evolve [EVOLVE]] [--bucket BUCKET] [--cache [CACHE]] [--image-weights]\n",
      "                [--device DEVICE] [--multi-scale] [--single-cls] [--optimizer {SGD,Adam,AdamW}] [--sync-bn]\n",
      "                [--workers WORKERS] [--project PROJECT] [--name NAME] [--exist-ok] [--quad] [--cos-lr]\n",
      "                [--label-smoothing LABEL_SMOOTHING] [--patience PATIENCE] [--freeze FREEZE [FREEZE ...]]\n",
      "                [--save-period SAVE_PERIOD] [--seed SEED] [--local_rank LOCAL_RANK] [--entity ENTITY]\n",
      "                [--upload_dataset [UPLOAD_DATASET]] [--bbox_interval BBOX_INTERVAL] [--artifact_alias ARTIFACT_ALIAS]\n",
      "\n",
      "optional arguments:\n",
      "  -h, --help            show this help message and exit\n",
      "  --weights WEIGHTS     initial weights path\n",
      "  --cfg CFG             model.yaml path\n",
      "  --data DATA           dataset.yaml path\n",
      "  --hyp HYP             hyperparameters path\n",
      "  --epochs EPOCHS       total training epochs\n",
      "  --batch-size BATCH_SIZE\n",
      "                        total batch size for all GPUs, -1 for autobatch\n",
      "  --imgsz IMGSZ, --img IMGSZ, --img-size IMGSZ\n",
      "                        train, val image size (pixels)\n",
      "  --rect                rectangular training\n",
      "  --resume [RESUME]     resume most recent training\n",
      "  --nosave              only save final checkpoint\n",
      "  --noval               only validate final epoch\n",
      "  --noautoanchor        disable AutoAnchor\n",
      "  --noplots             save no plot files\n",
      "  --evolve [EVOLVE]     evolve hyperparameters for x generations\n",
      "  --bucket BUCKET       gsutil bucket\n",
      "  --cache [CACHE]       --cache images in \"ram\" (default) or \"disk\"\n",
      "  --image-weights       use weighted image selection for training\n",
      "  --device DEVICE       cuda device, i.e. 0 or 0,1,2,3 or cpu\n",
      "  --multi-scale         vary img-size +/- 50%\n",
      "  --single-cls          train multi-class data as single-class\n",
      "  --optimizer {SGD,Adam,AdamW}\n",
      "                        optimizer\n",
      "  --sync-bn             use SyncBatchNorm, only available in DDP mode\n",
      "  --workers WORKERS     max dataloader workers (per RANK in DDP mode)\n",
      "  --project PROJECT     save to project/name\n",
      "  --name NAME           save to project/name\n",
      "  --exist-ok            existing project/name ok, do not increment\n",
      "  --quad                quad dataloader\n",
      "  --cos-lr              cosine LR scheduler\n",
      "  --label-smoothing LABEL_SMOOTHING\n",
      "                        Label smoothing epsilon\n",
      "  --patience PATIENCE   EarlyStopping patience (epochs without improvement)\n",
      "  --freeze FREEZE [FREEZE ...]\n",
      "                        Freeze layers: backbone=10, first3=0 1 2\n",
      "  --save-period SAVE_PERIOD\n",
      "                        Save checkpoint every x epochs (disabled if < 1)\n",
      "  --seed SEED           Global training seed\n",
      "  --local_rank LOCAL_RANK\n",
      "                        Automatic DDP Multi-GPU argument, do not modify\n",
      "  --entity ENTITY       Entity\n",
      "  --upload_dataset [UPLOAD_DATASET]\n",
      "                        Upload data, \"val\" option\n",
      "  --bbox_interval BBOX_INTERVAL\n",
      "                        Set bounding-box image logging interval\n",
      "  --artifact_alias ARTIFACT_ALIAS\n",
      "                        Version of dataset artifact to use\n"
     ]
    }
   ],
   "source": [
    "%run -i train.py --help"
   ]
  }
 ],
 "metadata": {
  "kernelspec": {
   "display_name": "Python 3 (ipykernel)",
   "language": "python",
   "name": "python3"
  },
  "language_info": {
   "codemirror_mode": {
    "name": "ipython",
    "version": 3
   },
   "file_extension": ".py",
   "mimetype": "text/x-python",
   "name": "python",
   "nbconvert_exporter": "python",
   "pygments_lexer": "ipython3",
   "version": "3.9.12"
  }
 },
 "nbformat": 4,
 "nbformat_minor": 5
}
