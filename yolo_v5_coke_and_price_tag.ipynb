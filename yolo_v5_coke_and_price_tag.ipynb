{
 "cells": [
  {
   "cell_type": "markdown",
   "id": "172cd204",
   "metadata": {},
   "source": [
    "## Download do projeto YOLOv5"
   ]
  },
  {
   "cell_type": "code",
   "execution_count": null,
   "id": "1c692c13",
   "metadata": {},
   "outputs": [],
   "source": [
    "# !rm -rf yolov5\n",
    "# !git clone https://github.com/ultralytics/yolov5"
   ]
  },
  {
   "cell_type": "code",
   "execution_count": null,
   "id": "857224b4",
   "metadata": {},
   "outputs": [],
   "source": [
    "%cd yolov5"
   ]
  },
  {
   "cell_type": "code",
   "execution_count": null,
   "id": "524ef793",
   "metadata": {},
   "outputs": [],
   "source": [
    "# !mv .git DISABLED.git"
   ]
  },
  {
   "cell_type": "code",
   "execution_count": null,
   "id": "be10b3f1",
   "metadata": {},
   "outputs": [],
   "source": [
    "# !mv DISABLED.git .git\n",
    "# !git pull\n",
    "# !mv .git DISABLED.git"
   ]
  },
  {
   "cell_type": "markdown",
   "id": "197a8b5c",
   "metadata": {},
   "source": [
    "## Instalação de pré-requisitos e importação de módulos"
   ]
  },
  {
   "cell_type": "code",
   "execution_count": null,
   "id": "ca8210eb",
   "metadata": {
    "scrolled": true
   },
   "outputs": [],
   "source": [
    "# %pip install -r requirements.txt"
   ]
  },
  {
   "cell_type": "code",
   "execution_count": null,
   "id": "35e40d6a",
   "metadata": {},
   "outputs": [],
   "source": [
    "import os;\n",
    "import torch;\n",
    "from IPython.display import Image, clear_output # to display images\n",
    "\n",
    "print(\"Setup complete. Using torch\", torch.__version__, torch.cuda.get_device_properties(0).name if torch.cuda.is_available() else 'CPU')"
   ]
  },
  {
   "cell_type": "markdown",
   "id": "85385f6a",
   "metadata": {},
   "source": [
    "## Download do dataset"
   ]
  },
  {
   "cell_type": "code",
   "execution_count": null,
   "id": "547ae346",
   "metadata": {},
   "outputs": [],
   "source": [
    "# Roboflow API\n",
    "\n",
    "# %pip install -q roboflow\n",
    "\n",
    "# from roboflow import Roboflow"
   ]
  },
  {
   "cell_type": "code",
   "execution_count": null,
   "id": "6e1ee1a3",
   "metadata": {},
   "outputs": [],
   "source": [
    "# rf = Roboflow(api_key=\"xxxxxxxxxx\")\n",
    "# project = rf.workspace(\"davylabs-d0yq3\").project(\"coke-and-price-tag\")"
   ]
  },
  {
   "cell_type": "code",
   "execution_count": null,
   "id": "bde1aae0",
   "metadata": {},
   "outputs": [],
   "source": [
    "# Dataset v2 - imgs: 190, cls: 39, imgz: 640px, split: 70% treino 20% validação 10% teste\n",
    "\n",
    "# !rm -rf coke-and-price-tag-2\n",
    "# dataset = project.version(2).download(\"yolov5\")"
   ]
  },
  {
   "cell_type": "code",
   "execution_count": null,
   "id": "83d720ad",
   "metadata": {},
   "outputs": [],
   "source": [
    "# Dataset v3 - imgs: 190, cls: 11 (classes sem volume/ml), imgz: 640px, split: 70% treino 20% validação 10% teste\n",
    "\n",
    "# !rm -rf coke-and-price-tag-3\n",
    "# dataset = project.version(3).download(\"yolov5\")"
   ]
  },
  {
   "cell_type": "markdown",
   "id": "ba930cb1",
   "metadata": {},
   "source": [
    "## Logging"
   ]
  },
  {
   "cell_type": "code",
   "execution_count": null,
   "id": "71d27270",
   "metadata": {
    "scrolled": true
   },
   "outputs": [],
   "source": [
    "# Weights & Biases\n",
    "\n",
    "%pip install -q wandb\n",
    "\n",
    "import wandb\n",
    "wandb.login()"
   ]
  },
  {
   "cell_type": "markdown",
   "id": "17ab7356",
   "metadata": {},
   "source": [
    "## Limpando o cache"
   ]
  },
  {
   "cell_type": "code",
   "execution_count": null,
   "id": "d66c0586",
   "metadata": {},
   "outputs": [],
   "source": [
    "# import torch\n",
    "# torch.cuda.empty_cache()"
   ]
  },
  {
   "cell_type": "markdown",
   "id": "d714266e",
   "metadata": {},
   "source": [
    "## Treinando modelos com o dataset v2"
   ]
  },
  {
   "cell_type": "code",
   "execution_count": null,
   "id": "61329aa9",
   "metadata": {},
   "outputs": [],
   "source": [
    "!cat coke-and-price-tag-2/data.yaml"
   ]
  },
  {
   "cell_type": "code",
   "execution_count": null,
   "id": "0e51be30",
   "metadata": {
    "scrolled": true
   },
   "outputs": [],
   "source": [
    "%run -i train.py --project yolo-v5-coke-and-price-tag-dataset-v2-local --data coke-and-price-tag-2/data.yaml --img 640 --batch 13 --epochs 1800 --weights yolov5l.pt --patience 300 --cache"
   ]
  },
  {
   "cell_type": "code",
   "execution_count": null,
   "id": "11c1c08c",
   "metadata": {
    "scrolled": true
   },
   "outputs": [],
   "source": [
    "# Pesos randômicos\n",
    "\n",
    "# %run -i train.py --project yolo-v5-coke-and-price-tag-dataset-v2-local --data coke-and-price-tag-2/data.yaml --img 640 --batch 13 --epochs 1800 --cache --patience 300 --weights '' --cfg models/yolov5l.yaml"
   ]
  },
  {
   "cell_type": "code",
   "execution_count": null,
   "id": "a8853765",
   "metadata": {},
   "outputs": [],
   "source": [
    "# Otimizador e hiperparâmetros diferentes\n",
    "\n",
    "# %run -i train.py --project yolo-v5-coke-and-price-tag-dataset-v2-local --data coke-and-price-tag-2/data.yaml --img 640 --batch 13 --epochs 300 --weights yolov5l.pt --cache --optimizer Adam --hyp data/hyps/hyp.custom.yaml"
   ]
  },
  {
   "cell_type": "markdown",
   "id": "7f6cdb07",
   "metadata": {},
   "source": [
    "## Treinando modelos com o dataset v3 - classes sem volume (ml)"
   ]
  },
  {
   "cell_type": "code",
   "execution_count": null,
   "id": "c918edf8",
   "metadata": {},
   "outputs": [],
   "source": [
    "# !cat coke-and-price-tag-3/data.yaml"
   ]
  },
  {
   "cell_type": "code",
   "execution_count": null,
   "id": "70874e56",
   "metadata": {},
   "outputs": [],
   "source": [
    "# %run -i train.py --project yolo-v5-coke-and-price-tag-dataset-v3-local --data coke-and-price-tag-3/data.yaml --img 640 --batch 13 --epochs 1800 --patience 300 --cache --weights yolov5l.pt"
   ]
  },
  {
   "cell_type": "markdown",
   "id": "a379399f",
   "metadata": {},
   "source": [
    "## Ajuda"
   ]
  },
  {
   "cell_type": "code",
   "execution_count": null,
   "id": "46cb4a2a",
   "metadata": {
    "scrolled": true
   },
   "outputs": [],
   "source": [
    "%run -i train.py --help"
   ]
  }
 ],
 "metadata": {
  "kernelspec": {
   "display_name": "Python 3 (ipykernel)",
   "language": "python",
   "name": "python3"
  },
  "language_info": {
   "codemirror_mode": {
    "name": "ipython",
    "version": 3
   },
   "file_extension": ".py",
   "mimetype": "text/x-python",
   "name": "python",
   "nbconvert_exporter": "python",
   "pygments_lexer": "ipython3",
   "version": "3.9.12"
  }
 },
 "nbformat": 4,
 "nbformat_minor": 5
}
